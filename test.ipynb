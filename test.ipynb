{
 "cells": [
  {
   "cell_type": "code",
   "id": "initial_id",
   "metadata": {
    "collapsed": true,
    "ExecuteTime": {
     "end_time": "2024-08-29T02:04:39.721302Z",
     "start_time": "2024-08-29T02:04:38.747478Z"
    }
   },
   "source": "from material_color.color import *",
   "outputs": [],
   "execution_count": 1
  },
  {
   "metadata": {
    "ExecuteTime": {
     "end_time": "2024-08-29T02:04:40.235616Z",
     "start_time": "2024-08-29T02:04:40.224108Z"
    }
   },
   "cell_type": "code",
   "source": "generate_random_color()",
   "id": "4f2e31e01a7bedfb",
   "outputs": [
    {
     "data": {
      "text/plain": [
       "'#c0ca33'"
      ]
     },
     "execution_count": 2,
     "metadata": {},
     "output_type": "execute_result"
    }
   ],
   "execution_count": 2
  },
  {
   "metadata": {
    "ExecuteTime": {
     "end_time": "2024-08-29T02:04:40.909283Z",
     "start_time": "2024-08-29T02:04:40.898701Z"
    }
   },
   "cell_type": "code",
   "source": "load_color()",
   "id": "4a044bfaf1173619",
   "outputs": [
    {
     "data": {
      "text/plain": [
       "{'amber': {'500': '#ffc107',\n",
       "  '600': '#ffb300',\n",
       "  '700': '#ffa000',\n",
       "  '800': '#ff8f00',\n",
       "  '900': '#ff6f00'},\n",
       " 'blue': {'500': '#2196f3',\n",
       "  '600': '#1e88e5',\n",
       "  '700': '#1976d2',\n",
       "  '800': '#1565c0',\n",
       "  '900': '#0d47a1'},\n",
       " 'brown': {'500': '#795548',\n",
       "  '600': '#6d4c41',\n",
       "  '700': '#5d4037',\n",
       "  '800': '#4e342e',\n",
       "  '900': '#3e2723'},\n",
       " 'cyan': {'500': '#00bcd4',\n",
       "  '600': '#00acc1',\n",
       "  '700': '#0097a7',\n",
       "  '800': '#00838f'},\n",
       " 'deeporange': {'500': '#ff5722',\n",
       "  '600': '#f4511e',\n",
       "  '700': '#e64a19',\n",
       "  '800': '#d84315',\n",
       "  '900': '#bf360c'},\n",
       " 'deeppurple': {'500': '#673ab7',\n",
       "  '600': '#5e35b1',\n",
       "  '700': '#512da8',\n",
       "  '800': '#4527a0',\n",
       "  '900': '#311b92'},\n",
       " 'green': {'500': '#4caf50',\n",
       "  '600': '#43a047',\n",
       "  '700': '#388e3c',\n",
       "  '800': '#2e7d32',\n",
       "  '900': '#1b5e20'},\n",
       " 'indigo': {'500': '#3f51b5',\n",
       "  '600': '#3949ab',\n",
       "  '700': '#303f9f',\n",
       "  '800': '#283593',\n",
       "  '900': '#1a237e'},\n",
       " 'lightblue': {'500': '#03a9f4',\n",
       "  '600': '#039be5',\n",
       "  '700': '#0288d1',\n",
       "  '800': '#0277bd',\n",
       "  '900': '#01579b'},\n",
       " 'lightgreen': {'500': '#8bc34a',\n",
       "  '600': '#7cb342',\n",
       "  '700': '#689f38',\n",
       "  '800': '#558b2f',\n",
       "  '900': '#33691e'},\n",
       " 'lime': {'500': '#cddc39',\n",
       "  '600': '#c0ca33',\n",
       "  '700': '#afb42b',\n",
       "  '800': '#9e9d24',\n",
       "  '900': '#827717'},\n",
       " 'orange': {'500': '#ff9800',\n",
       "  '600': '#fb8c00',\n",
       "  '700': '#f57c00',\n",
       "  '800': '#ef6c00',\n",
       "  '900': '#e65100'},\n",
       " 'pink': {'500': '#e91e63',\n",
       "  '600': '#d81b60',\n",
       "  '700': '#c2185b',\n",
       "  '800': '#ad1457',\n",
       "  '900': '#880e4f'},\n",
       " 'purple': {'500': '#9c27b0',\n",
       "  '600': '#8e24aa',\n",
       "  '700': '#7b1fa2',\n",
       "  '800': '#6a1b9a',\n",
       "  '900': '#4a148c'},\n",
       " 'red': {'500': '#f44336',\n",
       "  '600': '#e53935',\n",
       "  '700': '#d32f2f',\n",
       "  '800': '#c62828',\n",
       "  '900': '#b71c1c'},\n",
       " 'teal': {'500': '#009688',\n",
       "  '600': '#00897b',\n",
       "  '700': '#00796b',\n",
       "  '800': '#00695c',\n",
       "  '900': '#004d40'},\n",
       " 'yellow': {'500': '#ffeb3b',\n",
       "  '600': '#fdd835',\n",
       "  '700': '#fbc02d',\n",
       "  '800': '#f9a825',\n",
       "  '900': '#f57f17'}}"
      ]
     },
     "execution_count": 3,
     "metadata": {},
     "output_type": "execute_result"
    }
   ],
   "execution_count": 3
  },
  {
   "metadata": {
    "ExecuteTime": {
     "end_time": "2024-08-29T02:04:41.677893Z",
     "start_time": "2024-08-29T02:04:41.670362Z"
    }
   },
   "cell_type": "code",
   "source": "get_all_colors()",
   "id": "df14f208badb31de",
   "outputs": [
    {
     "data": {
      "text/plain": [
       "['amber',\n",
       " 'blue',\n",
       " 'brown',\n",
       " 'cyan',\n",
       " 'deeporange',\n",
       " 'deeppurple',\n",
       " 'green',\n",
       " 'indigo',\n",
       " 'lightblue',\n",
       " 'lightgreen',\n",
       " 'lime',\n",
       " 'orange',\n",
       " 'pink',\n",
       " 'purple',\n",
       " 'red',\n",
       " 'teal',\n",
       " 'yellow']"
      ]
     },
     "execution_count": 4,
     "metadata": {},
     "output_type": "execute_result"
    }
   ],
   "execution_count": 4
  },
  {
   "metadata": {
    "ExecuteTime": {
     "end_time": "2024-08-29T02:04:42.496531Z",
     "start_time": "2024-08-29T02:04:42.488074Z"
    }
   },
   "cell_type": "code",
   "source": "get_color('amber')",
   "id": "d2a3b7d738cedd70",
   "outputs": [
    {
     "data": {
      "text/plain": [
       "{'500': '#ffc107',\n",
       " '600': '#ffb300',\n",
       " '700': '#ffa000',\n",
       " '800': '#ff8f00',\n",
       " '900': '#ff6f00'}"
      ]
     },
     "execution_count": 5,
     "metadata": {},
     "output_type": "execute_result"
    }
   ],
   "execution_count": 5
  },
  {
   "metadata": {
    "ExecuteTime": {
     "end_time": "2024-08-29T02:05:18.391586Z",
     "start_time": "2024-08-29T02:05:18.375093Z"
    }
   },
   "cell_type": "code",
   "source": "df",
   "id": "3d6ddc05a315f1af",
   "outputs": [
    {
     "data": {
      "text/plain": [
       "       amber     blue    brown     cyan deeporange deeppurple    green  \\\n",
       "500  #ffc107  #2196f3  #795548  #00bcd4    #ff5722    #673ab7  #4caf50   \n",
       "600  #ffb300  #1e88e5  #6d4c41  #00acc1    #f4511e    #5e35b1  #43a047   \n",
       "700  #ffa000  #1976d2  #5d4037  #0097a7    #e64a19    #512da8  #388e3c   \n",
       "800  #ff8f00  #1565c0  #4e342e  #00838f    #d84315    #4527a0  #2e7d32   \n",
       "900  #ff6f00  #0d47a1  #3e2723      NaN    #bf360c    #311b92  #1b5e20   \n",
       "\n",
       "      indigo lightblue lightgreen     lime   orange     pink   purple  \\\n",
       "500  #3f51b5   #03a9f4    #8bc34a  #cddc39  #ff9800  #e91e63  #9c27b0   \n",
       "600  #3949ab   #039be5    #7cb342  #c0ca33  #fb8c00  #d81b60  #8e24aa   \n",
       "700  #303f9f   #0288d1    #689f38  #afb42b  #f57c00  #c2185b  #7b1fa2   \n",
       "800  #283593   #0277bd    #558b2f  #9e9d24  #ef6c00  #ad1457  #6a1b9a   \n",
       "900  #1a237e   #01579b    #33691e  #827717  #e65100  #880e4f  #4a148c   \n",
       "\n",
       "         red     teal   yellow  \n",
       "500  #f44336  #009688  #ffeb3b  \n",
       "600  #e53935  #00897b  #fdd835  \n",
       "700  #d32f2f  #00796b  #fbc02d  \n",
       "800  #c62828  #00695c  #f9a825  \n",
       "900  #b71c1c  #004d40  #f57f17  "
      ],
      "text/html": [
       "<div>\n",
       "<style scoped>\n",
       "    .dataframe tbody tr th:only-of-type {\n",
       "        vertical-align: middle;\n",
       "    }\n",
       "\n",
       "    .dataframe tbody tr th {\n",
       "        vertical-align: top;\n",
       "    }\n",
       "\n",
       "    .dataframe thead th {\n",
       "        text-align: right;\n",
       "    }\n",
       "</style>\n",
       "<table border=\"1\" class=\"dataframe\">\n",
       "  <thead>\n",
       "    <tr style=\"text-align: right;\">\n",
       "      <th></th>\n",
       "      <th>amber</th>\n",
       "      <th>blue</th>\n",
       "      <th>brown</th>\n",
       "      <th>cyan</th>\n",
       "      <th>deeporange</th>\n",
       "      <th>deeppurple</th>\n",
       "      <th>green</th>\n",
       "      <th>indigo</th>\n",
       "      <th>lightblue</th>\n",
       "      <th>lightgreen</th>\n",
       "      <th>lime</th>\n",
       "      <th>orange</th>\n",
       "      <th>pink</th>\n",
       "      <th>purple</th>\n",
       "      <th>red</th>\n",
       "      <th>teal</th>\n",
       "      <th>yellow</th>\n",
       "    </tr>\n",
       "  </thead>\n",
       "  <tbody>\n",
       "    <tr>\n",
       "      <th>500</th>\n",
       "      <td>#ffc107</td>\n",
       "      <td>#2196f3</td>\n",
       "      <td>#795548</td>\n",
       "      <td>#00bcd4</td>\n",
       "      <td>#ff5722</td>\n",
       "      <td>#673ab7</td>\n",
       "      <td>#4caf50</td>\n",
       "      <td>#3f51b5</td>\n",
       "      <td>#03a9f4</td>\n",
       "      <td>#8bc34a</td>\n",
       "      <td>#cddc39</td>\n",
       "      <td>#ff9800</td>\n",
       "      <td>#e91e63</td>\n",
       "      <td>#9c27b0</td>\n",
       "      <td>#f44336</td>\n",
       "      <td>#009688</td>\n",
       "      <td>#ffeb3b</td>\n",
       "    </tr>\n",
       "    <tr>\n",
       "      <th>600</th>\n",
       "      <td>#ffb300</td>\n",
       "      <td>#1e88e5</td>\n",
       "      <td>#6d4c41</td>\n",
       "      <td>#00acc1</td>\n",
       "      <td>#f4511e</td>\n",
       "      <td>#5e35b1</td>\n",
       "      <td>#43a047</td>\n",
       "      <td>#3949ab</td>\n",
       "      <td>#039be5</td>\n",
       "      <td>#7cb342</td>\n",
       "      <td>#c0ca33</td>\n",
       "      <td>#fb8c00</td>\n",
       "      <td>#d81b60</td>\n",
       "      <td>#8e24aa</td>\n",
       "      <td>#e53935</td>\n",
       "      <td>#00897b</td>\n",
       "      <td>#fdd835</td>\n",
       "    </tr>\n",
       "    <tr>\n",
       "      <th>700</th>\n",
       "      <td>#ffa000</td>\n",
       "      <td>#1976d2</td>\n",
       "      <td>#5d4037</td>\n",
       "      <td>#0097a7</td>\n",
       "      <td>#e64a19</td>\n",
       "      <td>#512da8</td>\n",
       "      <td>#388e3c</td>\n",
       "      <td>#303f9f</td>\n",
       "      <td>#0288d1</td>\n",
       "      <td>#689f38</td>\n",
       "      <td>#afb42b</td>\n",
       "      <td>#f57c00</td>\n",
       "      <td>#c2185b</td>\n",
       "      <td>#7b1fa2</td>\n",
       "      <td>#d32f2f</td>\n",
       "      <td>#00796b</td>\n",
       "      <td>#fbc02d</td>\n",
       "    </tr>\n",
       "    <tr>\n",
       "      <th>800</th>\n",
       "      <td>#ff8f00</td>\n",
       "      <td>#1565c0</td>\n",
       "      <td>#4e342e</td>\n",
       "      <td>#00838f</td>\n",
       "      <td>#d84315</td>\n",
       "      <td>#4527a0</td>\n",
       "      <td>#2e7d32</td>\n",
       "      <td>#283593</td>\n",
       "      <td>#0277bd</td>\n",
       "      <td>#558b2f</td>\n",
       "      <td>#9e9d24</td>\n",
       "      <td>#ef6c00</td>\n",
       "      <td>#ad1457</td>\n",
       "      <td>#6a1b9a</td>\n",
       "      <td>#c62828</td>\n",
       "      <td>#00695c</td>\n",
       "      <td>#f9a825</td>\n",
       "    </tr>\n",
       "    <tr>\n",
       "      <th>900</th>\n",
       "      <td>#ff6f00</td>\n",
       "      <td>#0d47a1</td>\n",
       "      <td>#3e2723</td>\n",
       "      <td>NaN</td>\n",
       "      <td>#bf360c</td>\n",
       "      <td>#311b92</td>\n",
       "      <td>#1b5e20</td>\n",
       "      <td>#1a237e</td>\n",
       "      <td>#01579b</td>\n",
       "      <td>#33691e</td>\n",
       "      <td>#827717</td>\n",
       "      <td>#e65100</td>\n",
       "      <td>#880e4f</td>\n",
       "      <td>#4a148c</td>\n",
       "      <td>#b71c1c</td>\n",
       "      <td>#004d40</td>\n",
       "      <td>#f57f17</td>\n",
       "    </tr>\n",
       "  </tbody>\n",
       "</table>\n",
       "</div>"
      ]
     },
     "execution_count": 8,
     "metadata": {},
     "output_type": "execute_result"
    }
   ],
   "execution_count": 8
  },
  {
   "metadata": {},
   "cell_type": "code",
   "source": "",
   "id": "e0d3aba35ad07685",
   "outputs": [],
   "execution_count": null
  }
 ],
 "metadata": {
  "kernelspec": {
   "display_name": "Python 3",
   "language": "python",
   "name": "python3"
  },
  "language_info": {
   "codemirror_mode": {
    "name": "ipython",
    "version": 2
   },
   "file_extension": ".py",
   "mimetype": "text/x-python",
   "name": "python",
   "nbconvert_exporter": "python",
   "pygments_lexer": "ipython2",
   "version": "2.7.6"
  }
 },
 "nbformat": 4,
 "nbformat_minor": 5
}
